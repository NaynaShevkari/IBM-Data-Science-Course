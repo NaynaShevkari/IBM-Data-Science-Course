{
 "cells": [
  {
   "cell_type": "markdown",
   "id": "963ef3e6-55e1-43be-9d89-2a20bb5fa1b9",
   "metadata": {},
   "source": [
    "#  Data Science Tools and Ecosystem"
   ]
  },
  {
   "cell_type": "markdown",
   "id": "35c587c3-3434-4b0e-9065-f064dbbb8ec2",
   "metadata": {},
   "source": [
    "In this notebbok, Data Science Tools and Ecosystem are summerized"
   ]
  },
  {
   "cell_type": "markdown",
   "id": "242e77f4-7594-4147-82b9-1c9f685e03ce",
   "metadata": {},
   "source": [
    "# **Objectives:**\n",
    "- Popular languages for Data Science\n",
    "- Commonly used libraries by Data Scientists\n",
    "- Data Science Tools\n",
    "- Arithmetic expression in Python\n",
    "- Converting minutes to hours"
   ]
  },
  {
   "cell_type": "markdown",
   "id": "1a3499de-c6c5-4ea9-a5d9-6c8bc31024a8",
   "metadata": {},
   "source": [
    "Some of the popular languages that Data Scientists use are:\n",
    "1. Python\n",
    "2. R\n",
    "3. Java"
   ]
  },
  {
   "cell_type": "markdown",
   "id": "99efe926-dc9c-4b8e-bbda-61c072da5a1d",
   "metadata": {},
   "source": [
    "Some of the commonly used libraries used by Data Scientists include:\n",
    "1. Pandas\n",
    "2. NumPy\n",
    "3. dplyr"
   ]
  },
  {
   "cell_type": "markdown",
   "id": "675d06c6-87f1-4675-9ec1-85e6724d9473",
   "metadata": {},
   "source": [
    "| Data Science Tools |\n",
    "|--------------------|\n",
    "| Apache Spark |\n",
    "| PowerBI |\n",
    "| Tablue |"
   ]
  },
  {
   "cell_type": "markdown",
   "id": "72a53219-b4bf-4528-b14a-94ee58a0491f",
   "metadata": {},
   "source": [
    "### Below are a few examples of evaluating arithmetic expressions is Python"
   ]
  },
  {
   "cell_type": "code",
   "execution_count": 5,
   "id": "2b5ccbb9-ed6d-4045-a6a2-ab1ebb6cd07f",
   "metadata": {},
   "outputs": [
    {
     "data": {
      "text/plain": [
       "17"
      ]
     },
     "execution_count": 5,
     "metadata": {},
     "output_type": "execute_result"
    }
   ],
   "source": [
    "#This is a simple arithmetic exression to multiply then add integers\n",
    "(3*4) + 5"
   ]
  },
  {
   "cell_type": "code",
   "execution_count": 6,
   "id": "6b0531d3-f701-4f0d-b14b-29c1b8796ad0",
   "metadata": {},
   "outputs": [
    {
     "data": {
      "text/plain": [
       "3.3333333333333335"
      ]
     },
     "execution_count": 6,
     "metadata": {},
     "output_type": "execute_result"
    }
   ],
   "source": [
    "# This code will convert 200 minutes to hours by dividing by 60\n",
    "200 / 60"
   ]
  },
  {
   "cell_type": "markdown",
   "id": "7daf4624-6555-4b0f-8ef9-df029df8f363",
   "metadata": {},
   "source": [
    "## Author\n",
    "Nayna Vijay Shevkari"
   ]
  },
  {
   "cell_type": "code",
   "execution_count": null,
   "id": "3860e1f8-41d8-4c87-ae8d-dfdcc6b0020a",
   "metadata": {},
   "outputs": [],
   "source": []
  }
 ],
 "metadata": {
  "kernelspec": {
   "display_name": "Python 3 (ipykernel)",
   "language": "python",
   "name": "python3"
  },
  "language_info": {
   "codemirror_mode": {
    "name": "ipython",
    "version": 3
   },
   "file_extension": ".py",
   "mimetype": "text/x-python",
   "name": "python",
   "nbconvert_exporter": "python",
   "pygments_lexer": "ipython3",
   "version": "3.12.8"
  }
 },
 "nbformat": 4,
 "nbformat_minor": 5
}
